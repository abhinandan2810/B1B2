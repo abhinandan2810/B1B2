{
 "cells": [
  {
   "cell_type": "code",
   "execution_count": 1,
   "id": "2366174e-7c1f-4405-b1d6-2aafe1cead83",
   "metadata": {},
   "outputs": [
    {
     "name": "stdin",
     "output_type": "stream",
     "text": [
      "Enter your first name:  Abhinandan\n",
      "Enter your last name:  Kumar\n"
     ]
    },
    {
     "name": "stdout",
     "output_type": "stream",
     "text": [
      "Kumar Abhinandan\n"
     ]
    }
   ],
   "source": [
    "# User inputs their first name and last name\n",
    "first_name = input(\"Enter your first name: \").strip()\n",
    "last_name = input(\"Enter your last name: \").strip()\n",
    "\n",
    "# Strip() method to remove any leading or trailing whitespace\n",
    "\n",
    "# last name and first name combined in reverse order with a space in between\n",
    "# title() method to capitalize the first letter of each name\n",
    "reversed_name = f\"{last_name.title()} {first_name.title()}\"\n",
    "\n",
    "# Print the reversed name\n",
    "print(reversed_name)"
   ]
  },
  {
   "cell_type": "code",
   "execution_count": 3,
   "id": "eca11ba7-e430-474c-a75f-0e729987ed9e",
   "metadata": {},
   "outputs": [
    {
     "name": "stdin",
     "output_type": "stream",
     "text": [
      "Enter a number:  34\n"
     ]
    },
    {
     "name": "stdout",
     "output_type": "stream",
     "text": [
      "Integer value: 34\n",
      "Float value: 34.0\n",
      "Complex value: (34+0j)\n"
     ]
    }
   ],
   "source": [
    "# user input\n",
    "user_input = input(\"Enter a number: \")\n",
    "\n",
    "# input to integer\n",
    "# input to float first, then to integer to handle cases like '3.14'\n",
    "int_value = int(float(user_input))\n",
    "\n",
    "# input to float\n",
    "# The float() function converts a number or a string that represents a number to a floating-point number\n",
    "float_value = float(user_input)\n",
    "\n",
    "# input to complex\n",
    "# The complex() function can take a float value and convert it to a complex number with zero imaginary part\n",
    "complex_value = complex(float(user_input))\n",
    "\n",
    "# Display the converted values\n",
    "print(f\"Integer value: {int_value}\")\n",
    "print(f\"Float value: {float_value}\")\n",
    "print(f\"Complex value: {complex_value}\")\n",
    "\n",
    "# Explanation:\n",
    "# - Integer (int): Represents whole numbers without a decimal point.\n",
    "# - Float (float): Represents numbers with decimal points or fractions.\n",
    "# - Complex (complex): Represents numbers with a real and an imaginary part (e.g., 1 + 2j)."
   ]
  },
  {
   "cell_type": "code",
   "execution_count": 11,
   "id": "ef6a32da-c5c8-4ad7-975a-b576b0cbe5f9",
   "metadata": {},
   "outputs": [
    {
     "name": "stdin",
     "output_type": "stream",
     "text": [
      "Enter the length of the rectangle:  12\n",
      "Enter the width of the rectangle:  22\n"
     ]
    },
    {
     "name": "stdout",
     "output_type": "stream",
     "text": [
      "The area of the rectangle is: 264.0\n"
     ]
    },
    {
     "name": "stdin",
     "output_type": "stream",
     "text": [
      "Enter the length of the rectangle:  44\n",
      "Enter the width of the rectangle:  23\n"
     ]
    },
    {
     "name": "stdout",
     "output_type": "stream",
     "text": [
      "The area of the rectangle is: 1012.00\n"
     ]
    }
   ],
   "source": [
    "length = float(input(\"Enter the length of the rectangle: \"))\n",
    "width = float(input(\"Enter the width of the rectangle: \"))\n",
    "area = length * width\n",
    "print(f\"The area of the rectangle is: {area}\")\n",
    "\n",
    "length = float(input(\"Enter the length of the rectangle: \"))\n",
    "width = float(input(\"Enter the width of the rectangle: \"))\n",
    "area = length * width\n",
    "print(f\"The area of the rectangle is: {area:.2f}\")"
   ]
  },
  {
   "cell_type": "code",
   "execution_count": 13,
   "id": "79020e5f-3246-43bd-a1ee-0b8b57c756d0",
   "metadata": {},
   "outputs": [
    {
     "name": "stdin",
     "output_type": "stream",
     "text": [
      "Enter the first number:  33\n",
      "Enter the second number:  23\n",
      "Enter the third number:  54\n"
     ]
    },
    {
     "name": "stdout",
     "output_type": "stream",
     "text": [
      "The average of the three numbers is: 36.67\n"
     ]
    }
   ],
   "source": [
    "# Prompt the user to enter three numbers\n",
    "num1 = float(input(\"Enter the first number: \"))\n",
    "num2 = float(input(\"Enter the second number: \"))\n",
    "num3 = float(input(\"Enter the third number: \"))\n",
    "\n",
    "# Calculate the average of the three numbers\n",
    "average = (num1 + num2 + num3) / 3\n",
    "\n",
    "# Print the average using the % method for string formatting\n",
    "print(\"The average of the three numbers is: %.2f\" % average)"
   ]
  },
  {
   "cell_type": "code",
   "execution_count": 15,
   "id": "7fd72964-6f26-4206-b7a8-e1c15a8477dc",
   "metadata": {},
   "outputs": [
    {
     "name": "stdin",
     "output_type": "stream",
     "text": [
      "Enter a number (or type 'exit' to quit):  36\n"
     ]
    },
    {
     "name": "stdout",
     "output_type": "stream",
     "text": [
      "The number is positive.\n"
     ]
    },
    {
     "name": "stdin",
     "output_type": "stream",
     "text": [
      "Enter a number (or type 'exit' to quit):  77\n"
     ]
    },
    {
     "name": "stdout",
     "output_type": "stream",
     "text": [
      "The number is positive.\n"
     ]
    },
    {
     "name": "stdin",
     "output_type": "stream",
     "text": [
      "Enter a number (or type 'exit' to quit):  24\n"
     ]
    },
    {
     "name": "stdout",
     "output_type": "stream",
     "text": [
      "The number is positive.\n"
     ]
    },
    {
     "name": "stdin",
     "output_type": "stream",
     "text": [
      "Enter a number (or type 'exit' to quit):  99\n"
     ]
    },
    {
     "name": "stdout",
     "output_type": "stream",
     "text": [
      "The number is positive.\n"
     ]
    },
    {
     "name": "stdin",
     "output_type": "stream",
     "text": [
      "Enter a number (or type 'exit' to quit):  23\n"
     ]
    },
    {
     "name": "stdout",
     "output_type": "stream",
     "text": [
      "The number is positive.\n"
     ]
    },
    {
     "name": "stdin",
     "output_type": "stream",
     "text": [
      "Enter a number (or type 'exit' to quit):  exit\n"
     ]
    }
   ],
   "source": [
    "while True:\n",
    "    user_input = input(\"Enter a number (or type 'exit' to quit): \")\n",
    "    if user_input.lower() == 'exit':\n",
    "        break\n",
    "    number = float(user_input)\n",
    "    if number > 0:\n",
    "        print(\"The number is positive.\")\n",
    "    elif number < 0:\n",
    "        print(\"The number is negative.\")\n",
    "    else:\n",
    "        print(\"The number is zero.\")"
   ]
  },
  {
   "cell_type": "code",
   "execution_count": 17,
   "id": "f9ee8b1c-3e1b-498e-8662-7f0164189281",
   "metadata": {},
   "outputs": [
    {
     "name": "stdin",
     "output_type": "stream",
     "text": [
      "Enter the first number:  22\n",
      "Enter the second number:  54\n"
     ]
    },
    {
     "name": "stdout",
     "output_type": "stream",
     "text": [
      "Both numbers are even.\n"
     ]
    }
   ],
   "source": [
    "num1 = int(input(\"Enter the first number: \"))\n",
    "num2 = int(input(\"Enter the second number: \"))\n",
    "\n",
    "if num1 % 2 == 0 and num2 % 2 == 0:\n",
    "    print(\"Both numbers are even.\")\n",
    "elif num1 % 2 != 0 and num2 % 2 != 0:\n",
    "    print(\"Both numbers are odd.\")\n",
    "else:\n",
    "    print(\"One number is even and the other is odd.\")"
   ]
  },
  {
   "cell_type": "code",
   "execution_count": 19,
   "id": "27793aae-0931-4f1c-9f0f-ba0aad431b58",
   "metadata": {},
   "outputs": [
    {
     "name": "stdin",
     "output_type": "stream",
     "text": [
      "Enter an integer:  33\n"
     ]
    },
    {
     "name": "stdout",
     "output_type": "stream",
     "text": [
      "Binary: 100001\n",
      "Octal: 41\n",
      "Hexadecimal: 21\n"
     ]
    }
   ],
   "source": [
    "num = int(input(\"Enter an integer: \"))\n",
    "\n",
    "binarystr = \"\"\n",
    "octalstr = \"\"\n",
    "hexstr = \"\"\n",
    "\n",
    "for i in range(31, -1, -1):\n",
    "    if num & (1 << i):\n",
    "        binarystr += \"1\"\n",
    "    else:\n",
    "        binarystr += \"0\"\n",
    "\n",
    "for i in range(0, 11):\n",
    "    octalstr = str((num >> (3 * i)) & 7) + octalstr\n",
    "\n",
    "hexdigits = \"0123456789ABCDEF\"\n",
    "for i in range(7, -1, -1):\n",
    "    hexdigit = (num >> (4 * i)) & 15\n",
    "    hexstr += hexdigits[hexdigit]\n",
    "\n",
    "print(f\"Binary: {binarystr.lstrip('0') or '0'}\")\n",
    "print(f\"Octal: {octalstr.lstrip('0') or '0'}\")\n",
    "print(f\"Hexadecimal: {hexstr.lstrip('0') or '0'}\")"
   ]
  },
  {
   "cell_type": "code",
   "execution_count": null,
   "id": "17473316-a495-4ac6-9d85-6232934e1303",
   "metadata": {},
   "outputs": [],
   "source": []
  }
 ],
 "metadata": {
  "kernelspec": {
   "display_name": "Python 3 (ipykernel)",
   "language": "python",
   "name": "python3"
  },
  "language_info": {
   "codemirror_mode": {
    "name": "ipython",
    "version": 3
   },
   "file_extension": ".py",
   "mimetype": "text/x-python",
   "name": "python",
   "nbconvert_exporter": "python",
   "pygments_lexer": "ipython3",
   "version": "3.12.4"
  }
 },
 "nbformat": 4,
 "nbformat_minor": 5
}
