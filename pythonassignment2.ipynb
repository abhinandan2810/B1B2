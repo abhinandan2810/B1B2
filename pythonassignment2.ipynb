{
 "cells": [
  {
   "cell_type": "code",
   "execution_count": 3,
   "id": "66f51be5-c0c6-47da-9407-43b170a10d1a",
   "metadata": {},
   "outputs": [
    {
     "name": "stdout",
     "output_type": "stream",
     "text": [
      "Hello Alice\n",
      "Good Morning Bob\n"
     ]
    }
   ],
   "source": [
    "def greet(name, greeting=\"Hello\"):\n",
    "    return f\"{greeting} {name}\"\n",
    "\n",
    "# Example usage\n",
    "print(greet(\"Alice\"))  # Output: \"Hello Alice\"\n",
    "print(greet(\"Bob\", \"Good Morning\"))  # Output: \"Good Morning Bob\""
   ]
  },
  {
   "cell_type": "code",
   "execution_count": 5,
   "id": "68b3591c-54e4-47d5-8994-d9996bc590e3",
   "metadata": {},
   "outputs": [
    {
     "name": "stdout",
     "output_type": "stream",
     "text": [
      "Name: John, Age: 10, City: Chicago\n",
      "Name: Emma, Age: 22, City: Los Angeles\n"
     ]
    }
   ],
   "source": [
    "def create_profile(*, name, age=10, city):\n",
    "    return f\"Name: {name}, Age: {age}, City: {city}\"\n",
    "\n",
    "# Example usage\n",
    "print(create_profile(name=\"John\", city=\"Chicago\"))  \n",
    "# Output: \"Name: John, Age: 10, City: Chicago\"\n",
    "\n",
    "print(create_profile(name=\"Emma\", age=22, city=\"Los Angeles\"))  \n",
    "# Output: \"Name: Emma, Age: 22, City: Los Angeles\""
   ]
  },
  {
   "cell_type": "code",
   "execution_count": 7,
   "id": "eaae110a-2d32-4b7e-939b-f6d051c33f96",
   "metadata": {},
   "outputs": [
    {
     "name": "stdout",
     "output_type": "stream",
     "text": [
      "(6, {})\n",
      "(3, {'x': 4, 'y': 5})\n"
     ]
    }
   ],
   "source": [
    "def sum_numbers(*args, **kwargs):\n",
    "    total = sum(arg for arg in args if isinstance(arg, (int, float)))\n",
    "    return (total, kwargs)\n",
    "\n",
    "# Example usage\n",
    "print(sum_numbers(1, 2, 3))  \n",
    "# Output: 6\n",
    "\n",
    "print(sum_numbers(1, 2, x=4, y=5))  \n",
    "# Output: (6, {'x': 4, 'y': 5})"
   ]
  },
  {
   "cell_type": "code",
   "execution_count": 10,
   "id": "66210979-6d50-4f3d-ab2b-a1db61c29ce2",
   "metadata": {},
   "outputs": [
    {
     "name": "stdout",
     "output_type": "stream",
     "text": [
      "[1, 4, 9, 16]\n"
     ]
    }
   ],
   "source": [
    "def square_list(numbers):\n",
    "    return list(map(lambda x: x**2, numbers))\n",
    "\n",
    "# Example usage\n",
    "print(square_list([1, 2, 3, 4]))  \n",
    "# Output: [1, 4, 9, 16]"
   ]
  },
  {
   "cell_type": "code",
   "execution_count": 13,
   "id": "7fe83b8a-7dff-4d5a-8391-5bdb07afcf60",
   "metadata": {},
   "outputs": [
    {
     "name": "stdout",
     "output_type": "stream",
     "text": [
      "[2, 4]\n"
     ]
    }
   ],
   "source": [
    "def filter_odd_numbers(numbers):\n",
    "    return list(filter(lambda x: x % 2 == 0, numbers))\n",
    "\n",
    "# Example usage\n",
    "print(filter_odd_numbers([1, 2, 3, 4, 5]))  \n",
    "# Output: [2, 4]"
   ]
  },
  {
   "cell_type": "code",
   "execution_count": 15,
   "id": "689380f3-e515-4f12-a598-2f3239ff8a0a",
   "metadata": {},
   "outputs": [
    {
     "name": "stdout",
     "output_type": "stream",
     "text": [
      "[0, 1, 4, 9, 16]\n"
     ]
    }
   ],
   "source": [
    "squares = [x**2 for x in range(5)]\n",
    "\n",
    "# Example usage\n",
    "print(squares)\n",
    "# Output: [0, 1, 4, 9, 16]"
   ]
  },
  {
   "cell_type": "code",
   "execution_count": 17,
   "id": "565becce-adf3-48a0-b1fd-d74b1e5697fc",
   "metadata": {},
   "outputs": [
    {
     "name": "stdout",
     "output_type": "stream",
     "text": [
      "[2, 4, 6, 8, 10, 12, 14, 16, 18, 20]\n"
     ]
    }
   ],
   "source": [
    "even_numbers = [x for x in range(1, 21) if x % 2 == 0]\n",
    "\n",
    "# Example usage\n",
    "print(even_numbers)\n",
    "# Output: [2, 4, 6, 8, 10, 12, 14, 16, 18, 20]"
   ]
  },
  {
   "cell_type": "code",
   "execution_count": 19,
   "id": "9993a463-a604-4e55-9a96-9c6a3699792b",
   "metadata": {},
   "outputs": [
    {
     "name": "stdout",
     "output_type": "stream",
     "text": [
      "Directory 'test_folder' created.\n",
      "Directory 'test_folder' deleted.\n"
     ]
    }
   ],
   "source": [
    "import os\n",
    "import time\n",
    "\n",
    "def file_operations():\n",
    "    # Create a directory named \"test_folder\"\n",
    "    os.makedirs(\"test_folder\", exist_ok=True)\n",
    "    print(\"Directory 'test_folder' created.\")\n",
    "    \n",
    "    # Pause the execution for 3 seconds\n",
    "    time.sleep(3)\n",
    "    \n",
    "    # Remove the directory named \"test_folder\"\n",
    "    os.rmdir(\"test_folder\")\n",
    "    print(\"Directory 'test_folder' deleted.\")\n",
    "\n",
    "# Example usage\n",
    "file_operations()"
   ]
  },
  {
   "cell_type": "code",
   "execution_count": 21,
   "id": "6e7078ce-8d9a-4e37-a0f7-9f19981f5b87",
   "metadata": {},
   "outputs": [
    {
     "name": "stdout",
     "output_type": "stream",
     "text": [
      "Paused execution...\n"
     ]
    }
   ],
   "source": [
    "from time import sleep as pause\n",
    "\n",
    "# Pause for 2 seconds\n",
    "pause(2)  \n",
    "print(\"Paused execution...\")"
   ]
  },
  {
   "cell_type": "code",
   "execution_count": 23,
   "id": "b522e4f3-b676-4952-bdab-b5a0dffd47da",
   "metadata": {},
   "outputs": [
    {
     "name": "stdout",
     "output_type": "stream",
     "text": [
      "[1, 2, 3, 4, 5, 6]\n",
      "[1, 2, 3, 4, 5]\n"
     ]
    }
   ],
   "source": [
    "def flatten_list(nested_list):\n",
    "    flat_list = []\n",
    "    for item in nested_list:\n",
    "        if isinstance(item, list):\n",
    "            # If the item is a list, recursively flatten it\n",
    "            flat_list.extend(flatten_list(item))\n",
    "        else:\n",
    "            # If the item is not a list, append it to flat_list\n",
    "            flat_list.append(item)\n",
    "    return flat_list\n",
    "\n",
    "# Example usage\n",
    "print(flatten_list([1, [2, 3], [[4, 5], 6]]))  \n",
    "# Output: [1, 2, 3, 4, 5, 6]\n",
    "\n",
    "print(flatten_list([[1, 2], [3, [4, [5]]]]))  \n",
    "# Output: [1, 2, 3, 4, 5]"
   ]
  },
  {
   "cell_type": "code",
   "execution_count": null,
   "id": "d1a2d36b-4749-4bbb-b2e5-abacd2f8a3c5",
   "metadata": {},
   "outputs": [],
   "source": []
  }
 ],
 "metadata": {
  "kernelspec": {
   "display_name": "Python 3 (ipykernel)",
   "language": "python",
   "name": "python3"
  },
  "language_info": {
   "codemirror_mode": {
    "name": "ipython",
    "version": 3
   },
   "file_extension": ".py",
   "mimetype": "text/x-python",
   "name": "python",
   "nbconvert_exporter": "python",
   "pygments_lexer": "ipython3",
   "version": "3.12.4"
  }
 },
 "nbformat": 4,
 "nbformat_minor": 5
}
