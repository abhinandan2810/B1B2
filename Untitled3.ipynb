{
 "cells": [
  {
   "cell_type": "code",
   "execution_count": 3,
   "id": "d9ed977b-aa5c-4f3a-847d-31d2dd41349f",
   "metadata": {},
   "outputs": [
    {
     "name": "stdin",
     "output_type": "stream",
     "text": [
      "Enter numbers separated by spaces:  23 44 64 12 76 33\n"
     ]
    },
    {
     "name": "stdout",
     "output_type": "stream",
     "text": [
      "[23, 44, 64, 12, 76, 33]\n",
      "Sum: 252\n",
      "Cumulative Sum: [23, 67, 131, 143, 219, 252]\n",
      "Average: 42.0\n",
      "Min: 12\n",
      "Max: 76\n"
     ]
    }
   ],
   "source": [
    "def calculate_statistics(numbers):\n",
    "    if not numbers: \n",
    "        return None, None, None, None, None\n",
    "\n",
    "    total_sum = 0\n",
    "    cumulative_sum = []\n",
    "    min_value = numbers[0]\n",
    "    max_value = numbers[0]\n",
    "\n",
    "    for i, num in enumerate(numbers):\n",
    "        total_sum += num\n",
    "        cumulative_sum.append(total_sum)\n",
    "        if num < min_value:\n",
    "            min_value = num\n",
    "        if num > max_value:\n",
    "            max_value = num\n",
    "\n",
    "    average = total_sum / len(numbers)\n",
    "\n",
    "    return total_sum, cumulative_sum, average, min_value, max_value\n",
    "\n",
    "numbers = list(map(int, input(\"Enter numbers separated by spaces: \").split()))\n",
    "\n",
    "print(numbers)\n",
    "\n",
    "total_sum, cumulative_sum, average, min_value, max_value = calculate_statistics(numbers)\n",
    "\n",
    "print(f\"Sum: {total_sum}\")\n",
    "print(f\"Cumulative Sum: {cumulative_sum}\")\n",
    "print(f\"Average: {average}\")\n",
    "print(f\"Min: {min_value}\")\n",
    "print(f\"Max: {max_value}\")"
   ]
  },
  {
   "cell_type": "code",
   "execution_count": null,
   "id": "60d14ba4-11ce-42b0-b2b9-3b3f2d905260",
   "metadata": {},
   "outputs": [],
   "source": []
  }
 ],
 "metadata": {
  "kernelspec": {
   "display_name": "Python 3 (ipykernel)",
   "language": "python",
   "name": "python3"
  },
  "language_info": {
   "codemirror_mode": {
    "name": "ipython",
    "version": 3
   },
   "file_extension": ".py",
   "mimetype": "text/x-python",
   "name": "python",
   "nbconvert_exporter": "python",
   "pygments_lexer": "ipython3",
   "version": "3.12.4"
  }
 },
 "nbformat": 4,
 "nbformat_minor": 5
}
